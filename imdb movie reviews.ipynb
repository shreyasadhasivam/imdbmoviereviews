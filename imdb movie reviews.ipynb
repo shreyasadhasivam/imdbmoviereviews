{
 "cells": [
  {
   "cell_type": "code",
   "execution_count": 1,
   "id": "8459e2cb",
   "metadata": {},
   "outputs": [],
   "source": [
    "#first import necessary packages\n",
    "import re\n",
    "import numpy as np\n",
    "import pandas as pd\n",
    "import matplotlib.pyplot as plt\n",
    "import seaborn as sns\n",
    "from collections import Counter\n",
    "import warnings\n",
    "import nltk\n",
    "from bs4 import BeautifulSoup\n",
    "\n",
    "from sklearn.manifold import TSNE\n",
    "from sklearn.metrics import accuracy_score, f1_score\n",
    "from sklearn.linear_model import LogisticRegression\n",
    "from sklearn.preprocessing import LabelBinarizer\n",
    "from sklearn.model_selection import train_test_split\n",
    "from sklearn.feature_extraction.text import CountVectorizer, TfidfVectorizer\n",
    "\n",
    "stopwords= nltk.corpus.stopwords.words('english')\n",
    "warnings.filterwarnings(\"ignore\")"
   ]
  },
  {
   "cell_type": "code",
   "execution_count": 2,
   "id": "4c3990ac",
   "metadata": {},
   "outputs": [
    {
     "data": {
      "text/html": [
       "<div>\n",
       "<style scoped>\n",
       "    .dataframe tbody tr th:only-of-type {\n",
       "        vertical-align: middle;\n",
       "    }\n",
       "\n",
       "    .dataframe tbody tr th {\n",
       "        vertical-align: top;\n",
       "    }\n",
       "\n",
       "    .dataframe thead th {\n",
       "        text-align: right;\n",
       "    }\n",
       "</style>\n",
       "<table border=\"1\" class=\"dataframe\">\n",
       "  <thead>\n",
       "    <tr style=\"text-align: right;\">\n",
       "      <th></th>\n",
       "      <th>review</th>\n",
       "      <th>sentiment</th>\n",
       "    </tr>\n",
       "  </thead>\n",
       "  <tbody>\n",
       "    <tr>\n",
       "      <th>0</th>\n",
       "      <td>One of the other reviewers has mentioned that ...</td>\n",
       "      <td>positive</td>\n",
       "    </tr>\n",
       "    <tr>\n",
       "      <th>1</th>\n",
       "      <td>A wonderful little production. &lt;br /&gt;&lt;br /&gt;The...</td>\n",
       "      <td>positive</td>\n",
       "    </tr>\n",
       "    <tr>\n",
       "      <th>2</th>\n",
       "      <td>I thought this was a wonderful way to spend ti...</td>\n",
       "      <td>positive</td>\n",
       "    </tr>\n",
       "    <tr>\n",
       "      <th>3</th>\n",
       "      <td>Basically there's a family where a little boy ...</td>\n",
       "      <td>negative</td>\n",
       "    </tr>\n",
       "    <tr>\n",
       "      <th>4</th>\n",
       "      <td>Petter Mattei's \"Love in the Time of Money\" is...</td>\n",
       "      <td>positive</td>\n",
       "    </tr>\n",
       "  </tbody>\n",
       "</table>\n",
       "</div>"
      ],
      "text/plain": [
       "                                              review sentiment\n",
       "0  One of the other reviewers has mentioned that ...  positive\n",
       "1  A wonderful little production. <br /><br />The...  positive\n",
       "2  I thought this was a wonderful way to spend ti...  positive\n",
       "3  Basically there's a family where a little boy ...  negative\n",
       "4  Petter Mattei's \"Love in the Time of Money\" is...  positive"
      ]
     },
     "execution_count": 2,
     "metadata": {},
     "output_type": "execute_result"
    }
   ],
   "source": [
    "#read the dataset\n",
    "data = pd.read_csv('imdbds.csv')\n",
    "data.head()"
   ]
  },
  {
   "cell_type": "code",
   "execution_count": 3,
   "id": "a2020b02",
   "metadata": {},
   "outputs": [
    {
     "name": "stdout",
     "output_type": "stream",
     "text": [
      "<class 'pandas.core.frame.DataFrame'>\n",
      "RangeIndex: 50000 entries, 0 to 49999\n",
      "Data columns (total 2 columns):\n",
      " #   Column     Non-Null Count  Dtype \n",
      "---  ------     --------------  ----- \n",
      " 0   review     50000 non-null  object\n",
      " 1   sentiment  50000 non-null  object\n",
      "dtypes: object(2)\n",
      "memory usage: 781.4+ KB\n"
     ]
    }
   ],
   "source": [
    "data.info()"
   ]
  },
  {
   "cell_type": "code",
   "execution_count": 4,
   "id": "49a760b1",
   "metadata": {},
   "outputs": [
    {
     "name": "stdout",
     "output_type": "stream",
     "text": [
      "                                                   review sentiment\n",
      "count                                               50000     50000\n",
      "unique                                              49582         2\n",
      "top     Loved today's show!!! It was a variety and not...  positive\n",
      "freq                                                    5     25000\n"
     ]
    }
   ],
   "source": [
    "print(data.describe())\n",
    "X=data['review']\n",
    "y=data['sentiment']"
   ]
  },
  {
   "cell_type": "code",
   "execution_count": 5,
   "id": "1d9a196f",
   "metadata": {},
   "outputs": [],
   "source": [
    "def remove_special_characters(text):\n",
    "    \"\"\"Function to parse raw review data and extract\n",
    "        text from it.\n",
    "    \"\"\"\n",
    "    soup = BeautifulSoup(text, \"html.parser\")\n",
    "    text = soup.get_text()\n",
    "    text = re.sub('\\[[^]]*\\]', '', text)\n",
    "    text = re.sub('[^a-zA-z0-9\\s+\\,]','',text)\n",
    "    text = re.sub('\\.{2,}','',text)\n",
    "    return text\n",
    "\n",
    "def remove_stopwords(text):\n",
    "    \"\"\"Function to remove stopwords\"\"\"\n",
    "    text = text.lower()\n",
    "    words = text.split(\" \")\n",
    "    filtered_words = [i for i in words if i not in stopwords]\n",
    "    filtered_words = ' '.join(filtered_words)\n",
    "    return filtered_words\n",
    "\n",
    "class BuildVocab:\n",
    "    \"\"\"Class to build vocabulary for a given series of reviews and vocab size\"\"\"\n",
    "    def __init__(self, sentences: pd.Series, vocab_size:int, unk_token=False):\n",
    "        self.sentences = sentences\n",
    "        self.vocab_size = vocab_size\n",
    "        self.oov_token = unk_token\n",
    "    \n",
    "    def __process_sentences(self, sentence:str):\n",
    "        sentence = re.sub(r'[^a-zA-Z\\s+]', '', sentence).strip()\n",
    "        return sentence\n",
    "    \n",
    "    def __sentence2words(self, sentence: str):\n",
    "        word_list = list()\n",
    "        for word in sentence.split(\" \"):\n",
    "            if len(word) >= 1:\n",
    "                word_list.append(word)\n",
    "            else:\n",
    "                pass\n",
    "        return list(word_list)\n",
    "    \n",
    "    def __get_word_dictionary(self, sentences:list):\n",
    "        words = list()\n",
    "        for sentence in sentences:\n",
    "            word_list = self.__sentence2words(sentence=sentence)\n",
    "            words.extend(word_list)\n",
    "        return list(words)\n",
    "    \n",
    "    def __get_topn_words(self, word_dictionary:dict):\n",
    "        sorted_items = sorted(word_dictionary.items(), key=lambda item: item[1], reverse=True)\n",
    "        top_n_words = [word for word, _ in sorted_items[:self.vocab_size]]\n",
    "        return top_n_words\n",
    "\n",
    "\n",
    "    def build(self):\n",
    "        sentences = self.sentences.apply(self.__process_sentences)\n",
    "        words = self.__get_word_dictionary(sentences=sentences.values)\n",
    "        word_count_dict = Counter(words)\n",
    "        vocab = self.__get_topn_words(word_dictionary=word_count_dict)\n",
    "        \n",
    "        if self.oov_token:\n",
    "            vocab.append(\"UNK\")\n",
    "        else:\n",
    "            pass\n",
    "\n",
    "        index_dict = {x: index for x, index in zip(vocab, range(len(vocab)))}\n",
    "\n",
    "        return vocab, index_dict"
   ]
  },
  {
   "cell_type": "code",
   "execution_count": 7,
   "id": "2d4cf2ad",
   "metadata": {},
   "outputs": [
    {
     "name": "stdout",
     "output_type": "stream",
     "text": [
      "Number of reviews: 50000\n"
     ]
    },
    {
     "data": {
      "text/plain": [
       "<Axes: xlabel='sentiment', ylabel='count'>"
      ]
     },
     "execution_count": 7,
     "metadata": {},
     "output_type": "execute_result"
    },
    {
     "data": {
      "image/png": "[encoded data removed]",
      "text/plain": [
       "<Figure size 640x480 with 1 Axes>"
      ]
     },
     "metadata": {},
     "output_type": "display_data"
    }
   ],
   "source": [
    "print(f\"Number of reviews: {len(X.values)}\")\n",
    "sns.countplot(data=data, x=\"sentiment\")"
   ]
  },
  {
   "cell_type": "code",
   "execution_count": 8,
   "id": "305ec977",
   "metadata": {},
   "outputs": [],
   "source": [
    "#cleaning and removing stopwords from reviews\n",
    "X = X.apply(remove_special_characters)\n",
    "X = X.apply(remove_stopwords)"
   ]
  },
  {
   "cell_type": "code",
   "execution_count": 9,
   "id": "f23bb612",
   "metadata": {},
   "outputs": [],
   "source": [
    "## Building vocabulary with desired vocab size\n",
    "vocab, vocab_dict = BuildVocab(sentences=X, vocab_size=1000, unk_token=True).build()"
   ]
  },
  {
   "cell_type": "code",
   "execution_count": 10,
   "id": "3b2bf0fa",
   "metadata": {},
   "outputs": [],
   "source": [
    "from sklearn.model_selection import train_test_split\n",
    "#splitting dataset into 75% train and 25% test set\n",
    "X_train, X_test, y_train, y_test = train_test_split(X, y, test_size=0.25, \n",
    "                                                    random_state=0)"
   ]
  },
  {
   "cell_type": "code",
   "execution_count": 11,
   "id": "11f4ad50",
   "metadata": {},
   "outputs": [],
   "source": [
    "tfidf = TfidfVectorizer(max_features = 500)\n",
    "tfidf = tfidf.fit(X_train)\n",
    "X_train, X_test = tfidf.transform(X_train), tfidf.transform(X_test)"
   ]
  },
  {
   "cell_type": "code",
   "execution_count": 12,
   "id": "10eb09c6",
   "metadata": {},
   "outputs": [
    {
     "name": "stdout",
     "output_type": "stream",
     "text": [
      "(37500, 1) (12500, 1)\n"
     ]
    }
   ],
   "source": [
    "encoder = LabelBinarizer()\n",
    "encoder = encoder.fit(y_train)\n",
    "y_train,y_test = encoder.transform(y_train), encoder.transform(y_test)\n",
    "print(y_train.shape, y_test.shape)"
   ]
  },
  {
   "cell_type": "code",
   "execution_count": 13,
   "id": "49557066",
   "metadata": {},
   "outputs": [],
   "source": [
    "lr = LogisticRegression(penalty=\"l2\", max_iter=500, C=1, random_state=42)\n",
    "lr = lr.fit(X_train, y_train)"
   ]
  },
  {
   "cell_type": "code",
   "execution_count": 14,
   "id": "0e411637",
   "metadata": {},
   "outputs": [
    {
     "name": "stdout",
     "output_type": "stream",
     "text": [
      "Training accuracy: 0.8459466666666666\n",
      "Testing accuracy: 0.83248\n",
      "F1 score(train): 0.8477051643687555\n",
      "F1 Score(test): 0.8331208160663054\n"
     ]
    }
   ],
   "source": [
    "#checking accuracy\n",
    "train_pred = lr.predict(X_train)\n",
    "test_pred = lr. predict(X_test)\n",
    "train_acc = accuracy_score(y_train,train_pred)\n",
    "print(\"Training accuracy: {}\".format(train_acc))\n",
    "test_acc = accuracy_score(y_test, test_pred)\n",
    "print(\"Testing accuracy: {}\".format(test_acc))\n",
    "f1train = f1_score(y_train, train_pred)\n",
    "print(\"F1 score(train): {}\".format(f1train))\n",
    "f1test = f1_score(y_test, test_pred)\n",
    "print(\"F1 Score(test): {}\".format(f1test))"
   ]
  },
  {
   "cell_type": "code",
   "execution_count": 15,
   "id": "ad1cef07",
   "metadata": {},
   "outputs": [
    {
     "name": "stdout",
     "output_type": "stream",
     "text": [
      "              precision    recall  f1-score   support\n",
      "\n",
      "           0       0.84      0.82      0.83      6291\n",
      "           1       0.82      0.84      0.83      6209\n",
      "\n",
      "    accuracy                           0.83     12500\n",
      "   macro avg       0.83      0.83      0.83     12500\n",
      "weighted avg       0.83      0.83      0.83     12500\n",
      "\n"
     ]
    }
   ],
   "source": [
    "from sklearn.metrics import classification_report\n",
    "print(classification_report(y_test,test_pred))"
   ]
  },
  {
   "cell_type": "code",
   "execution_count": 16,
   "id": "b7aede09",
   "metadata": {},
   "outputs": [
    {
     "data": {
      "text/plain": [
       "<Axes: >"
      ]
     },
     "execution_count": 16,
     "metadata": {},
     "output_type": "execute_result"
    },
    {
     "data": {
      "image/png": "[encoded data removed]",
      "text/plain": [
       "<Figure size 640x480 with 2 Axes>"
      ]
     },
     "metadata": {},
     "output_type": "display_data"
    }
   ],
   "source": [
    "from sklearn.metrics import confusion_matrix\n",
    "cm = confusion_matrix(y_test,test_pred)\n",
    "sns.heatmap(cm, fmt='d', annot=True)"
   ]
  }
 ],
 "metadata": {
  "kernelspec": {
   "display_name": "Python 3 (ipykernel)",
   "language": "python",
   "name": "python3"
  },
  "language_info": {
   "codemirror_mode": {
    "name": "ipython",
    "version": 3
   },
   "file_extension": ".py",
   "mimetype": "text/x-python",
   "name": "python",
   "nbconvert_exporter": "python",
   "pygments_lexer": "ipython3",
   "version": "3.10.9"
  }
 },
 "nbformat": 4,
 "nbformat_minor": 5
}
